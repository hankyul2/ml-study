{
 "cells": [
  {
   "cell_type": "code",
   "execution_count": 5,
   "metadata": {
    "collapsed": true
   },
   "outputs": [
    {
     "data": {
      "text/plain": "       age          workclass    education   gender  hours-per-week  \\\n0       39          State-gov    Bachelors     Male              40   \n1       50   Self-emp-not-inc    Bachelors     Male              13   \n2       38            Private      HS-grad     Male              40   \n3       53            Private         11th     Male              40   \n4       28            Private    Bachelors   Female              40   \n...    ...                ...          ...      ...             ...   \n32556   27            Private   Assoc-acdm   Female              38   \n32557   40            Private      HS-grad     Male              40   \n32558   58            Private      HS-grad   Female              40   \n32559   22            Private      HS-grad     Male              20   \n32560   52       Self-emp-inc      HS-grad   Female              40   \n\n               occupation  income  \n0            Adm-clerical   <=50K  \n1         Exec-managerial   <=50K  \n2       Handlers-cleaners   <=50K  \n3       Handlers-cleaners   <=50K  \n4          Prof-specialty   <=50K  \n...                   ...     ...  \n32556        Tech-support   <=50K  \n32557   Machine-op-inspct    >50K  \n32558        Adm-clerical   <=50K  \n32559        Adm-clerical   <=50K  \n32560     Exec-managerial    >50K  \n\n[32561 rows x 7 columns]",
      "text/html": "<div>\n<style scoped>\n    .dataframe tbody tr th:only-of-type {\n        vertical-align: middle;\n    }\n\n    .dataframe tbody tr th {\n        vertical-align: top;\n    }\n\n    .dataframe thead th {\n        text-align: right;\n    }\n</style>\n<table border=\"1\" class=\"dataframe\">\n  <thead>\n    <tr style=\"text-align: right;\">\n      <th></th>\n      <th>age</th>\n      <th>workclass</th>\n      <th>education</th>\n      <th>gender</th>\n      <th>hours-per-week</th>\n      <th>occupation</th>\n      <th>income</th>\n    </tr>\n  </thead>\n  <tbody>\n    <tr>\n      <th>0</th>\n      <td>39</td>\n      <td>State-gov</td>\n      <td>Bachelors</td>\n      <td>Male</td>\n      <td>40</td>\n      <td>Adm-clerical</td>\n      <td>&lt;=50K</td>\n    </tr>\n    <tr>\n      <th>1</th>\n      <td>50</td>\n      <td>Self-emp-not-inc</td>\n      <td>Bachelors</td>\n      <td>Male</td>\n      <td>13</td>\n      <td>Exec-managerial</td>\n      <td>&lt;=50K</td>\n    </tr>\n    <tr>\n      <th>2</th>\n      <td>38</td>\n      <td>Private</td>\n      <td>HS-grad</td>\n      <td>Male</td>\n      <td>40</td>\n      <td>Handlers-cleaners</td>\n      <td>&lt;=50K</td>\n    </tr>\n    <tr>\n      <th>3</th>\n      <td>53</td>\n      <td>Private</td>\n      <td>11th</td>\n      <td>Male</td>\n      <td>40</td>\n      <td>Handlers-cleaners</td>\n      <td>&lt;=50K</td>\n    </tr>\n    <tr>\n      <th>4</th>\n      <td>28</td>\n      <td>Private</td>\n      <td>Bachelors</td>\n      <td>Female</td>\n      <td>40</td>\n      <td>Prof-specialty</td>\n      <td>&lt;=50K</td>\n    </tr>\n    <tr>\n      <th>...</th>\n      <td>...</td>\n      <td>...</td>\n      <td>...</td>\n      <td>...</td>\n      <td>...</td>\n      <td>...</td>\n      <td>...</td>\n    </tr>\n    <tr>\n      <th>32556</th>\n      <td>27</td>\n      <td>Private</td>\n      <td>Assoc-acdm</td>\n      <td>Female</td>\n      <td>38</td>\n      <td>Tech-support</td>\n      <td>&lt;=50K</td>\n    </tr>\n    <tr>\n      <th>32557</th>\n      <td>40</td>\n      <td>Private</td>\n      <td>HS-grad</td>\n      <td>Male</td>\n      <td>40</td>\n      <td>Machine-op-inspct</td>\n      <td>&gt;50K</td>\n    </tr>\n    <tr>\n      <th>32558</th>\n      <td>58</td>\n      <td>Private</td>\n      <td>HS-grad</td>\n      <td>Female</td>\n      <td>40</td>\n      <td>Adm-clerical</td>\n      <td>&lt;=50K</td>\n    </tr>\n    <tr>\n      <th>32559</th>\n      <td>22</td>\n      <td>Private</td>\n      <td>HS-grad</td>\n      <td>Male</td>\n      <td>20</td>\n      <td>Adm-clerical</td>\n      <td>&lt;=50K</td>\n    </tr>\n    <tr>\n      <th>32560</th>\n      <td>52</td>\n      <td>Self-emp-inc</td>\n      <td>HS-grad</td>\n      <td>Female</td>\n      <td>40</td>\n      <td>Exec-managerial</td>\n      <td>&gt;50K</td>\n    </tr>\n  </tbody>\n</table>\n<p>32561 rows × 7 columns</p>\n</div>"
     },
     "metadata": {},
     "output_type": "display_data"
    }
   ],
   "source": [
    "%matplotlib inline\n",
    "import os\n",
    "import datetime\n",
    "import pytz\n",
    "import numpy as np\n",
    "import pandas as pd\n",
    "import scipy\n",
    "import sklearn\n",
    "import matplotlib.pyplot as plt\n",
    "import mglearn\n",
    "from IPython import display\n",
    "\n",
    "data = pd.read_csv(\n",
    "    os.path.join(mglearn.datasets.DATA_PATH, \"adult.data\"),\n",
    "    header=None, index_col = False,\n",
    "    names=['age', 'workclass', 'fnlwgt', 'education', 'education-num',\n",
    "           'marital-status', 'occupation', 'relationship', 'race', 'gender',\n",
    "           'capital-gain', 'capital-loss', 'hours-per-week', 'native-country', 'income']\n",
    ")\n",
    "\n",
    "data = data[['age', 'workclass', 'education', 'gender', 'hours-per-week', 'occupation', 'income']]\n",
    "display.display(data)"
   ]
  },
  {
   "cell_type": "code",
   "execution_count": 6,
   "outputs": [
    {
     "data": {
      "text/plain": " Male      21790\n Female    10771\nName: gender, dtype: int64"
     },
     "execution_count": 6,
     "metadata": {},
     "output_type": "execute_result"
    }
   ],
   "source": [
    "data.gender.value_counts()"
   ],
   "metadata": {
    "collapsed": false,
    "pycharm": {
     "name": "#%%\n"
    }
   }
  },
  {
   "cell_type": "code",
   "execution_count": 7,
   "outputs": [
    {
     "name": "stdout",
     "output_type": "stream",
     "text": [
      "original columns:\n",
      " ['age', 'workclass', 'education', 'gender', 'hours-per-week', 'occupation', 'income']\n",
      "dummy data columns:\n",
      " ['age', 'hours-per-week', 'workclass_ ?', 'workclass_ Federal-gov', 'workclass_ Local-gov', 'workclass_ Never-worked', 'workclass_ Private', 'workclass_ Self-emp-inc', 'workclass_ Self-emp-not-inc', 'workclass_ State-gov', 'workclass_ Without-pay', 'education_ 10th', 'education_ 11th', 'education_ 12th', 'education_ 1st-4th', 'education_ 5th-6th', 'education_ 7th-8th', 'education_ 9th', 'education_ Assoc-acdm', 'education_ Assoc-voc', 'education_ Bachelors', 'education_ Doctorate', 'education_ HS-grad', 'education_ Masters', 'education_ Preschool', 'education_ Prof-school', 'education_ Some-college', 'gender_ Female', 'gender_ Male', 'occupation_ ?', 'occupation_ Adm-clerical', 'occupation_ Armed-Forces', 'occupation_ Craft-repair', 'occupation_ Exec-managerial', 'occupation_ Farming-fishing', 'occupation_ Handlers-cleaners', 'occupation_ Machine-op-inspct', 'occupation_ Other-service', 'occupation_ Priv-house-serv', 'occupation_ Prof-specialty', 'occupation_ Protective-serv', 'occupation_ Sales', 'occupation_ Tech-support', 'occupation_ Transport-moving', 'income_ <=50K', 'income_ >50K']\n"
     ]
    }
   ],
   "source": [
    "print(\"original columns:\\n\", list(data.columns))\n",
    "data_dummy = pd.get_dummies(data)\n",
    "print(\"dummy data columns:\\n\", list(data_dummy))"
   ],
   "metadata": {
    "collapsed": false,
    "pycharm": {
     "name": "#%%\n"
    }
   }
  },
  {
   "cell_type": "code",
   "execution_count": 9,
   "outputs": [
    {
     "data": {
      "text/plain": "   age  hours-per-week  workclass_ ?  workclass_ Federal-gov  \\\n0   39              40             0                       0   \n1   50              13             0                       0   \n2   38              40             0                       0   \n3   53              40             0                       0   \n4   28              40             0                       0   \n\n   workclass_ Local-gov  workclass_ Never-worked  workclass_ Private  \\\n0                     0                        0                   0   \n1                     0                        0                   0   \n2                     0                        0                   1   \n3                     0                        0                   1   \n4                     0                        0                   1   \n\n   workclass_ Self-emp-inc  workclass_ Self-emp-not-inc  workclass_ State-gov  \\\n0                        0                            0                     1   \n1                        0                            1                     0   \n2                        0                            0                     0   \n3                        0                            0                     0   \n4                        0                            0                     0   \n\n   ...  occupation_ Machine-op-inspct  occupation_ Other-service  \\\n0  ...                              0                          0   \n1  ...                              0                          0   \n2  ...                              0                          0   \n3  ...                              0                          0   \n4  ...                              0                          0   \n\n   occupation_ Priv-house-serv  occupation_ Prof-specialty  \\\n0                            0                           0   \n1                            0                           0   \n2                            0                           0   \n3                            0                           0   \n4                            0                           1   \n\n   occupation_ Protective-serv  occupation_ Sales  occupation_ Tech-support  \\\n0                            0                  0                         0   \n1                            0                  0                         0   \n2                            0                  0                         0   \n3                            0                  0                         0   \n4                            0                  0                         0   \n\n   occupation_ Transport-moving  income_ <=50K  income_ >50K  \n0                             0              1             0  \n1                             0              1             0  \n2                             0              1             0  \n3                             0              1             0  \n4                             0              1             0  \n\n[5 rows x 46 columns]",
      "text/html": "<div>\n<style scoped>\n    .dataframe tbody tr th:only-of-type {\n        vertical-align: middle;\n    }\n\n    .dataframe tbody tr th {\n        vertical-align: top;\n    }\n\n    .dataframe thead th {\n        text-align: right;\n    }\n</style>\n<table border=\"1\" class=\"dataframe\">\n  <thead>\n    <tr style=\"text-align: right;\">\n      <th></th>\n      <th>age</th>\n      <th>hours-per-week</th>\n      <th>workclass_ ?</th>\n      <th>workclass_ Federal-gov</th>\n      <th>workclass_ Local-gov</th>\n      <th>workclass_ Never-worked</th>\n      <th>workclass_ Private</th>\n      <th>workclass_ Self-emp-inc</th>\n      <th>workclass_ Self-emp-not-inc</th>\n      <th>workclass_ State-gov</th>\n      <th>...</th>\n      <th>occupation_ Machine-op-inspct</th>\n      <th>occupation_ Other-service</th>\n      <th>occupation_ Priv-house-serv</th>\n      <th>occupation_ Prof-specialty</th>\n      <th>occupation_ Protective-serv</th>\n      <th>occupation_ Sales</th>\n      <th>occupation_ Tech-support</th>\n      <th>occupation_ Transport-moving</th>\n      <th>income_ &lt;=50K</th>\n      <th>income_ &gt;50K</th>\n    </tr>\n  </thead>\n  <tbody>\n    <tr>\n      <th>0</th>\n      <td>39</td>\n      <td>40</td>\n      <td>0</td>\n      <td>0</td>\n      <td>0</td>\n      <td>0</td>\n      <td>0</td>\n      <td>0</td>\n      <td>0</td>\n      <td>1</td>\n      <td>...</td>\n      <td>0</td>\n      <td>0</td>\n      <td>0</td>\n      <td>0</td>\n      <td>0</td>\n      <td>0</td>\n      <td>0</td>\n      <td>0</td>\n      <td>1</td>\n      <td>0</td>\n    </tr>\n    <tr>\n      <th>1</th>\n      <td>50</td>\n      <td>13</td>\n      <td>0</td>\n      <td>0</td>\n      <td>0</td>\n      <td>0</td>\n      <td>0</td>\n      <td>0</td>\n      <td>1</td>\n      <td>0</td>\n      <td>...</td>\n      <td>0</td>\n      <td>0</td>\n      <td>0</td>\n      <td>0</td>\n      <td>0</td>\n      <td>0</td>\n      <td>0</td>\n      <td>0</td>\n      <td>1</td>\n      <td>0</td>\n    </tr>\n    <tr>\n      <th>2</th>\n      <td>38</td>\n      <td>40</td>\n      <td>0</td>\n      <td>0</td>\n      <td>0</td>\n      <td>0</td>\n      <td>1</td>\n      <td>0</td>\n      <td>0</td>\n      <td>0</td>\n      <td>...</td>\n      <td>0</td>\n      <td>0</td>\n      <td>0</td>\n      <td>0</td>\n      <td>0</td>\n      <td>0</td>\n      <td>0</td>\n      <td>0</td>\n      <td>1</td>\n      <td>0</td>\n    </tr>\n    <tr>\n      <th>3</th>\n      <td>53</td>\n      <td>40</td>\n      <td>0</td>\n      <td>0</td>\n      <td>0</td>\n      <td>0</td>\n      <td>1</td>\n      <td>0</td>\n      <td>0</td>\n      <td>0</td>\n      <td>...</td>\n      <td>0</td>\n      <td>0</td>\n      <td>0</td>\n      <td>0</td>\n      <td>0</td>\n      <td>0</td>\n      <td>0</td>\n      <td>0</td>\n      <td>1</td>\n      <td>0</td>\n    </tr>\n    <tr>\n      <th>4</th>\n      <td>28</td>\n      <td>40</td>\n      <td>0</td>\n      <td>0</td>\n      <td>0</td>\n      <td>0</td>\n      <td>1</td>\n      <td>0</td>\n      <td>0</td>\n      <td>0</td>\n      <td>...</td>\n      <td>0</td>\n      <td>0</td>\n      <td>0</td>\n      <td>1</td>\n      <td>0</td>\n      <td>0</td>\n      <td>0</td>\n      <td>0</td>\n      <td>1</td>\n      <td>0</td>\n    </tr>\n  </tbody>\n</table>\n<p>5 rows × 46 columns</p>\n</div>"
     },
     "metadata": {},
     "output_type": "display_data"
    }
   ],
   "source": [
    "display.display(data_dummy.head())"
   ],
   "metadata": {
    "collapsed": false,
    "pycharm": {
     "name": "#%%\n"
    }
   }
  },
  {
   "cell_type": "code",
   "execution_count": 14,
   "outputs": [],
   "source": [
    "features = data_dummy.loc[:, 'age':'occupation_ Transport-moving']\n",
    "\n",
    "X = features.values\n",
    "y = data_dummy['income_ >50K'].values"
   ],
   "metadata": {
    "collapsed": false,
    "pycharm": {
     "name": "#%%\n"
    }
   }
  },
  {
   "cell_type": "code",
   "execution_count": 16,
   "outputs": [
    {
     "name": "stdout",
     "output_type": "stream",
     "text": [
      "X shape: (32561, 44) y shape: (32561,)\n"
     ]
    }
   ],
   "source": [
    "print(\"X shape: {} y shape: {}\".format(X.shape, y.shape))"
   ],
   "metadata": {
    "collapsed": false,
    "pycharm": {
     "name": "#%%\n"
    }
   }
  },
  {
   "cell_type": "code",
   "execution_count": 17,
   "outputs": [
    {
     "name": "stdout",
     "output_type": "stream",
     "text": [
      "[[1. 0. 0. 0. 1. 0.]\n",
      " [0. 1. 0. 0. 0. 1.]\n",
      " [0. 0. 1. 0. 1. 0.]\n",
      " [0. 1. 0. 1. 0. 0.]]\n"
     ]
    }
   ],
   "source": [
    "from sklearn.preprocessing import OneHotEncoder\n",
    "\n",
    "demo_df = pd.DataFrame({'숫자 특성':[0, 1, 2, 1], '범주형 특성':['양말', '여우', '양말', '상자']})\n",
    "\n",
    "ohe = OneHotEncoder(sparse=False)\n",
    "print(ohe.fit_transform(demo_df))"
   ],
   "metadata": {
    "collapsed": false,
    "pycharm": {
     "name": "#%%\n"
    }
   }
  },
  {
   "cell_type": "code",
   "execution_count": 18,
   "outputs": [],
   "source": [
    "from sklearn.compose import ColumnTransformer\n",
    "from sklearn.preprocessing import StandardScaler\n",
    "\n",
    "ct = ColumnTransformer([\n",
    "    ('scaling', StandardScaler(), ['age', 'hours-per-week']),\n",
    "    ('onehot', OneHotEncoder(sparse=False), ['workclass', 'education', 'gender', 'occupation'])\n",
    "])"
   ],
   "metadata": {
    "collapsed": false,
    "pycharm": {
     "name": "#%%\n"
    }
   }
  },
  {
   "cell_type": "code",
   "execution_count": 20,
   "outputs": [
    {
     "name": "stdout",
     "output_type": "stream",
     "text": [
      "(24420, 44)\n"
     ]
    }
   ],
   "source": [
    "from sklearn.linear_model import LogisticRegression\n",
    "from sklearn.model_selection import train_test_split\n",
    "\n",
    "data_features = data.drop('income', axis=1)\n",
    "X_train, X_test, y_train, y_test = train_test_split(\n",
    "    data_features, data.income, random_state=0\n",
    ")\n",
    "\n",
    "ct.fit(X_train)\n",
    "X_train_trans = ct.transform(X_train)\n",
    "\n",
    "print(X_train_trans.shape)"
   ],
   "metadata": {
    "collapsed": false,
    "pycharm": {
     "name": "#%%\n"
    }
   }
  },
  {
   "cell_type": "code",
   "execution_count": 21,
   "outputs": [
    {
     "name": "stdout",
     "output_type": "stream",
     "text": [
      "[ 56  81  25  20  27  18  12  21 109   7]\n"
     ]
    }
   ],
   "source": [
    "rnd = np.random.RandomState(0)\n",
    "X_org = rnd.normal(size=(1000,3))\n",
    "w = rnd.normal(size=3)\n",
    "\n",
    "X = rnd.poisson(10 * np.exp(X_org))\n",
    "y = np.dot(X_org, w)\n",
    "\n",
    "print(X[:10, 0])"
   ],
   "metadata": {
    "collapsed": false,
    "pycharm": {
     "name": "#%%\n"
    }
   }
  },
  {
   "cell_type": "code",
   "execution_count": null,
   "outputs": [],
   "source": [],
   "metadata": {
    "collapsed": false,
    "pycharm": {
     "name": "#%%\n"
    }
   }
  }
 ],
 "metadata": {
  "kernelspec": {
   "display_name": "Python 3",
   "language": "python",
   "name": "python3"
  },
  "language_info": {
   "codemirror_mode": {
    "name": "ipython",
    "version": 2
   },
   "file_extension": ".py",
   "mimetype": "text/x-python",
   "name": "python",
   "nbconvert_exporter": "python",
   "pygments_lexer": "ipython2",
   "version": "2.7.6"
  }
 },
 "nbformat": 4,
 "nbformat_minor": 0
}