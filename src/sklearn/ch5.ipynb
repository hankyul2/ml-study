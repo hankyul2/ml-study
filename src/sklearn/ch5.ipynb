{
 "cells": [
  {
   "cell_type": "code",
   "execution_count": 1,
   "metadata": {
    "collapsed": true
   },
   "outputs": [
    {
     "name": "stderr",
     "output_type": "stream",
     "text": [
      "<frozen importlib._bootstrap>:219: RuntimeWarning: numpy.ufunc size changed, may indicate binary incompatibility. Expected 192 from C header, got 216 from PyObject\n",
      "<frozen importlib._bootstrap>:219: RuntimeWarning: numpy.ufunc size changed, may indicate binary incompatibility. Expected 192 from C header, got 216 from PyObject\n",
      "<frozen importlib._bootstrap>:219: RuntimeWarning: numpy.ufunc size changed, may indicate binary incompatibility. Expected 192 from C header, got 216 from PyObject\n"
     ]
    }
   ],
   "source": [
    "%matplotlib inline\n",
    "import numpy as np\n",
    "import pandas as pd\n",
    "import scipy\n",
    "import sklearn\n",
    "import matplotlib.pyplot as plt\n",
    "from IPython.display import display\n",
    "import mglearn"
   ]
  },
  {
   "cell_type": "code",
   "execution_count": 3,
   "outputs": [
    {
     "name": "stdout",
     "output_type": "stream",
     "text": [
      "cross validation score: [0.96666667 1.         0.93333333 0.96666667 1.        ]\n",
      "mean of cv score: 0.9733333333333334\n"
     ]
    },
    {
     "name": "stderr",
     "output_type": "stream",
     "text": [
      "C:\\Users\\consi\\anaconda3\\lib\\site-packages\\sklearn\\linear_model\\_logistic.py:762: ConvergenceWarning: lbfgs failed to converge (status=1):\n",
      "STOP: TOTAL NO. of ITERATIONS REACHED LIMIT.\n",
      "\n",
      "Increase the number of iterations (max_iter) or scale the data as shown in:\n",
      "    https://scikit-learn.org/stable/modules/preprocessing.html\n",
      "Please also refer to the documentation for alternative solver options:\n",
      "    https://scikit-learn.org/stable/modules/linear_model.html#logistic-regression\n",
      "  n_iter_i = _check_optimize_result(\n"
     ]
    }
   ],
   "source": [
    "from sklearn.model_selection import cross_val_score\n",
    "from sklearn.datasets import load_iris\n",
    "from sklearn.linear_model import LogisticRegression\n",
    "\n",
    "iris = load_iris()\n",
    "logreg = LogisticRegression()\n",
    "\n",
    "scores = cross_val_score(logreg, iris.data, iris.target)\n",
    "print(\"cross validation score:\", scores)\n",
    "print(\"mean of cv score:\", scores.mean())"
   ],
   "metadata": {
    "collapsed": false,
    "pycharm": {
     "name": "#%%\n"
    }
   }
  },
  {
   "cell_type": "code",
   "execution_count": 4,
   "outputs": [
    {
     "name": "stderr",
     "output_type": "stream",
     "text": [
      "C:\\Users\\consi\\anaconda3\\lib\\site-packages\\sklearn\\linear_model\\_logistic.py:762: ConvergenceWarning: lbfgs failed to converge (status=1):\n",
      "STOP: TOTAL NO. of ITERATIONS REACHED LIMIT.\n",
      "\n",
      "Increase the number of iterations (max_iter) or scale the data as shown in:\n",
      "    https://scikit-learn.org/stable/modules/preprocessing.html\n",
      "Please also refer to the documentation for alternative solver options:\n",
      "    https://scikit-learn.org/stable/modules/linear_model.html#logistic-regression\n",
      "  n_iter_i = _check_optimize_result(\n"
     ]
    },
    {
     "data": {
      "text/plain": "{'fit_time': array([0.05797315, 0.04737329, 0.03129458, 0.04686284, 0.05401587]),\n 'score_time': array([0.00100327, 0.        , 0.        , 0.        , 0.00096393]),\n 'test_score': array([0.96666667, 1.        , 0.93333333, 0.96666667, 1.        ]),\n 'train_score': array([0.96666667, 0.96666667, 0.98333333, 0.98333333, 0.975     ])}"
     },
     "metadata": {},
     "output_type": "display_data"
    }
   ],
   "source": [
    "from sklearn.model_selection import cross_validate\n",
    "\n",
    "res = cross_validate(logreg, iris.data, iris.target, return_train_score=True)\n",
    "\n",
    "display(res)"
   ],
   "metadata": {
    "collapsed": false,
    "pycharm": {
     "name": "#%%\n"
    }
   }
  },
  {
   "cell_type": "code",
   "execution_count": 5,
   "outputs": [
    {
     "data": {
      "text/plain": "   fit_time  score_time  test_score  train_score\n0  0.057973    0.001003    0.966667     0.966667\n1  0.047373    0.000000    1.000000     0.966667\n2  0.031295    0.000000    0.933333     0.983333\n3  0.046863    0.000000    0.966667     0.983333\n4  0.054016    0.000964    1.000000     0.975000",
      "text/html": "<div>\n<style scoped>\n    .dataframe tbody tr th:only-of-type {\n        vertical-align: middle;\n    }\n\n    .dataframe tbody tr th {\n        vertical-align: top;\n    }\n\n    .dataframe thead th {\n        text-align: right;\n    }\n</style>\n<table border=\"1\" class=\"dataframe\">\n  <thead>\n    <tr style=\"text-align: right;\">\n      <th></th>\n      <th>fit_time</th>\n      <th>score_time</th>\n      <th>test_score</th>\n      <th>train_score</th>\n    </tr>\n  </thead>\n  <tbody>\n    <tr>\n      <th>0</th>\n      <td>0.057973</td>\n      <td>0.001003</td>\n      <td>0.966667</td>\n      <td>0.966667</td>\n    </tr>\n    <tr>\n      <th>1</th>\n      <td>0.047373</td>\n      <td>0.000000</td>\n      <td>1.000000</td>\n      <td>0.966667</td>\n    </tr>\n    <tr>\n      <th>2</th>\n      <td>0.031295</td>\n      <td>0.000000</td>\n      <td>0.933333</td>\n      <td>0.983333</td>\n    </tr>\n    <tr>\n      <th>3</th>\n      <td>0.046863</td>\n      <td>0.000000</td>\n      <td>0.966667</td>\n      <td>0.983333</td>\n    </tr>\n    <tr>\n      <th>4</th>\n      <td>0.054016</td>\n      <td>0.000964</td>\n      <td>1.000000</td>\n      <td>0.975000</td>\n    </tr>\n  </tbody>\n</table>\n</div>"
     },
     "metadata": {},
     "output_type": "display_data"
    }
   ],
   "source": [
    "df = pd.DataFrame(res)\n",
    "\n",
    "display(df)"
   ],
   "metadata": {
    "collapsed": false,
    "pycharm": {
     "name": "#%%\n"
    }
   }
  },
  {
   "cell_type": "code",
   "execution_count": 6,
   "outputs": [
    {
     "name": "stdout",
     "output_type": "stream",
     "text": [
      "param grid:\n",
      " {'C': [0.001, 0.01, 0.1, 1, 10, 100], 'gamma': [0.001, 0.01, 0.1, 1, 10, 100]}\n"
     ]
    }
   ],
   "source": [
    "param_grid = {'C':[0.001, 0.01, 0.1, 1, 10, 100], 'gamma':[0.001, 0.01, 0.1, 1, 10, 100]}\n",
    "print(\"param grid:\\n\", param_grid)"
   ],
   "metadata": {
    "collapsed": false,
    "pycharm": {
     "name": "#%%\n"
    }
   }
  },
  {
   "cell_type": "code",
   "execution_count": 9,
   "outputs": [],
   "source": [
    "from sklearn.model_selection import GridSearchCV, train_test_split\n",
    "from sklearn.svm import SVC\n",
    "\n",
    "grid_search = GridSearchCV(SVC(), param_grid, cv=5, return_train_score=True)"
   ],
   "metadata": {
    "collapsed": false,
    "pycharm": {
     "name": "#%%\n"
    }
   }
  },
  {
   "cell_type": "code",
   "execution_count": 10,
   "outputs": [],
   "source": [
    "X_train, X_test, y_train, y_test = train_test_split(iris.data, iris.target, random_state=0)"
   ],
   "metadata": {
    "collapsed": false,
    "pycharm": {
     "name": "#%%\n"
    }
   }
  },
  {
   "cell_type": "code",
   "execution_count": 11,
   "outputs": [
    {
     "data": {
      "text/plain": "GridSearchCV(cv=5, estimator=SVC(),\n             param_grid={'C': [0.001, 0.01, 0.1, 1, 10, 100],\n                         'gamma': [0.001, 0.01, 0.1, 1, 10, 100]},\n             return_train_score=True)"
     },
     "execution_count": 11,
     "metadata": {},
     "output_type": "execute_result"
    }
   ],
   "source": [
    "grid_search.fit(X_train, y_train)"
   ],
   "metadata": {
    "collapsed": false,
    "pycharm": {
     "name": "#%%\n"
    }
   }
  },
  {
   "cell_type": "code",
   "execution_count": 12,
   "outputs": [
    {
     "name": "stdout",
     "output_type": "stream",
     "text": [
      "test score: 0.9736842105263158\n"
     ]
    }
   ],
   "source": [
    "print(\"test score:\", grid_search.score(X_test, y_test))"
   ],
   "metadata": {
    "collapsed": false,
    "pycharm": {
     "name": "#%%\n"
    }
   }
  },
  {
   "cell_type": "code",
   "execution_count": 13,
   "outputs": [
    {
     "name": "stdout",
     "output_type": "stream",
     "text": [
      "best params:\n",
      " {'C': 10, 'gamma': 0.1}\n",
      "best validation score: 0.9731225296442687\n"
     ]
    }
   ],
   "source": [
    "print(\"best params:\\n\", grid_search.best_params_)\n",
    "print(\"best validation score:\", grid_search.best_score_)"
   ],
   "metadata": {
    "collapsed": false,
    "pycharm": {
     "name": "#%%\n"
    }
   }
  },
  {
   "cell_type": "code",
   "execution_count": 14,
   "outputs": [
    {
     "data": {
      "text/plain": "                                               0                            1  \\\nmean_fit_time                         0.00425158                   0.00119939   \nstd_fit_time                          0.00552122                  0.000400119   \nmean_score_time                      0.000952959                  0.000609684   \nstd_score_time                       0.000560389                  0.000498155   \nparam_C                                    0.001                        0.001   \nparam_gamma                                0.001                         0.01   \nparams              {'C': 0.001, 'gamma': 0.001}  {'C': 0.001, 'gamma': 0.01}   \nsplit0_test_score                       0.347826                     0.347826   \nsplit1_test_score                       0.347826                     0.347826   \nsplit2_test_score                       0.363636                     0.363636   \nsplit3_test_score                       0.363636                     0.363636   \nsplit4_test_score                       0.409091                     0.409091   \nmean_test_score                         0.366403                     0.366403   \nstd_test_score                         0.0224845                    0.0224845   \nrank_test_score                               22                           22   \nsplit0_train_score                      0.370787                     0.370787   \nsplit1_train_score                      0.370787                     0.370787   \nsplit2_train_score                      0.366667                     0.366667   \nsplit3_train_score                      0.366667                     0.366667   \nsplit4_train_score                      0.355556                     0.355556   \nmean_train_score                        0.366092                     0.366092   \nstd_train_score                       0.00558129                   0.00558129   \n\n                                             2                         3  \\\nmean_fit_time                      0.000599194                         0   \nstd_fit_time                        0.00048924                         0   \nmean_score_time                    0.000598907                         0   \nstd_score_time                     0.000489012                         0   \nparam_C                                  0.001                     0.001   \nparam_gamma                                0.1                         1   \nparams              {'C': 0.001, 'gamma': 0.1}  {'C': 0.001, 'gamma': 1}   \nsplit0_test_score                     0.347826                  0.347826   \nsplit1_test_score                     0.347826                  0.347826   \nsplit2_test_score                     0.363636                  0.363636   \nsplit3_test_score                     0.363636                  0.363636   \nsplit4_test_score                     0.409091                  0.409091   \nmean_test_score                       0.366403                  0.366403   \nstd_test_score                       0.0224845                 0.0224845   \nrank_test_score                             22                        22   \nsplit0_train_score                    0.370787                  0.370787   \nsplit1_train_score                    0.370787                  0.370787   \nsplit2_train_score                    0.366667                  0.366667   \nsplit3_train_score                    0.366667                  0.366667   \nsplit4_train_score                    0.355556                  0.355556   \nmean_train_score                      0.366092                  0.366092   \nstd_train_score                     0.00558129                0.00558129   \n\n                                            4  \nmean_fit_time                               0  \nstd_fit_time                                0  \nmean_score_time                    0.00312223  \nstd_score_time                     0.00624447  \nparam_C                                 0.001  \nparam_gamma                                10  \nparams              {'C': 0.001, 'gamma': 10}  \nsplit0_test_score                    0.347826  \nsplit1_test_score                    0.347826  \nsplit2_test_score                    0.363636  \nsplit3_test_score                    0.363636  \nsplit4_test_score                    0.409091  \nmean_test_score                      0.366403  \nstd_test_score                      0.0224845  \nrank_test_score                            22  \nsplit0_train_score                   0.370787  \nsplit1_train_score                   0.370787  \nsplit2_train_score                   0.366667  \nsplit3_train_score                   0.366667  \nsplit4_train_score                   0.355556  \nmean_train_score                     0.366092  \nstd_train_score                    0.00558129  ",
      "text/html": "<div>\n<style scoped>\n    .dataframe tbody tr th:only-of-type {\n        vertical-align: middle;\n    }\n\n    .dataframe tbody tr th {\n        vertical-align: top;\n    }\n\n    .dataframe thead th {\n        text-align: right;\n    }\n</style>\n<table border=\"1\" class=\"dataframe\">\n  <thead>\n    <tr style=\"text-align: right;\">\n      <th></th>\n      <th>0</th>\n      <th>1</th>\n      <th>2</th>\n      <th>3</th>\n      <th>4</th>\n    </tr>\n  </thead>\n  <tbody>\n    <tr>\n      <th>mean_fit_time</th>\n      <td>0.00425158</td>\n      <td>0.00119939</td>\n      <td>0.000599194</td>\n      <td>0</td>\n      <td>0</td>\n    </tr>\n    <tr>\n      <th>std_fit_time</th>\n      <td>0.00552122</td>\n      <td>0.000400119</td>\n      <td>0.00048924</td>\n      <td>0</td>\n      <td>0</td>\n    </tr>\n    <tr>\n      <th>mean_score_time</th>\n      <td>0.000952959</td>\n      <td>0.000609684</td>\n      <td>0.000598907</td>\n      <td>0</td>\n      <td>0.00312223</td>\n    </tr>\n    <tr>\n      <th>std_score_time</th>\n      <td>0.000560389</td>\n      <td>0.000498155</td>\n      <td>0.000489012</td>\n      <td>0</td>\n      <td>0.00624447</td>\n    </tr>\n    <tr>\n      <th>param_C</th>\n      <td>0.001</td>\n      <td>0.001</td>\n      <td>0.001</td>\n      <td>0.001</td>\n      <td>0.001</td>\n    </tr>\n    <tr>\n      <th>param_gamma</th>\n      <td>0.001</td>\n      <td>0.01</td>\n      <td>0.1</td>\n      <td>1</td>\n      <td>10</td>\n    </tr>\n    <tr>\n      <th>params</th>\n      <td>{'C': 0.001, 'gamma': 0.001}</td>\n      <td>{'C': 0.001, 'gamma': 0.01}</td>\n      <td>{'C': 0.001, 'gamma': 0.1}</td>\n      <td>{'C': 0.001, 'gamma': 1}</td>\n      <td>{'C': 0.001, 'gamma': 10}</td>\n    </tr>\n    <tr>\n      <th>split0_test_score</th>\n      <td>0.347826</td>\n      <td>0.347826</td>\n      <td>0.347826</td>\n      <td>0.347826</td>\n      <td>0.347826</td>\n    </tr>\n    <tr>\n      <th>split1_test_score</th>\n      <td>0.347826</td>\n      <td>0.347826</td>\n      <td>0.347826</td>\n      <td>0.347826</td>\n      <td>0.347826</td>\n    </tr>\n    <tr>\n      <th>split2_test_score</th>\n      <td>0.363636</td>\n      <td>0.363636</td>\n      <td>0.363636</td>\n      <td>0.363636</td>\n      <td>0.363636</td>\n    </tr>\n    <tr>\n      <th>split3_test_score</th>\n      <td>0.363636</td>\n      <td>0.363636</td>\n      <td>0.363636</td>\n      <td>0.363636</td>\n      <td>0.363636</td>\n    </tr>\n    <tr>\n      <th>split4_test_score</th>\n      <td>0.409091</td>\n      <td>0.409091</td>\n      <td>0.409091</td>\n      <td>0.409091</td>\n      <td>0.409091</td>\n    </tr>\n    <tr>\n      <th>mean_test_score</th>\n      <td>0.366403</td>\n      <td>0.366403</td>\n      <td>0.366403</td>\n      <td>0.366403</td>\n      <td>0.366403</td>\n    </tr>\n    <tr>\n      <th>std_test_score</th>\n      <td>0.0224845</td>\n      <td>0.0224845</td>\n      <td>0.0224845</td>\n      <td>0.0224845</td>\n      <td>0.0224845</td>\n    </tr>\n    <tr>\n      <th>rank_test_score</th>\n      <td>22</td>\n      <td>22</td>\n      <td>22</td>\n      <td>22</td>\n      <td>22</td>\n    </tr>\n    <tr>\n      <th>split0_train_score</th>\n      <td>0.370787</td>\n      <td>0.370787</td>\n      <td>0.370787</td>\n      <td>0.370787</td>\n      <td>0.370787</td>\n    </tr>\n    <tr>\n      <th>split1_train_score</th>\n      <td>0.370787</td>\n      <td>0.370787</td>\n      <td>0.370787</td>\n      <td>0.370787</td>\n      <td>0.370787</td>\n    </tr>\n    <tr>\n      <th>split2_train_score</th>\n      <td>0.366667</td>\n      <td>0.366667</td>\n      <td>0.366667</td>\n      <td>0.366667</td>\n      <td>0.366667</td>\n    </tr>\n    <tr>\n      <th>split3_train_score</th>\n      <td>0.366667</td>\n      <td>0.366667</td>\n      <td>0.366667</td>\n      <td>0.366667</td>\n      <td>0.366667</td>\n    </tr>\n    <tr>\n      <th>split4_train_score</th>\n      <td>0.355556</td>\n      <td>0.355556</td>\n      <td>0.355556</td>\n      <td>0.355556</td>\n      <td>0.355556</td>\n    </tr>\n    <tr>\n      <th>mean_train_score</th>\n      <td>0.366092</td>\n      <td>0.366092</td>\n      <td>0.366092</td>\n      <td>0.366092</td>\n      <td>0.366092</td>\n    </tr>\n    <tr>\n      <th>std_train_score</th>\n      <td>0.00558129</td>\n      <td>0.00558129</td>\n      <td>0.00558129</td>\n      <td>0.00558129</td>\n      <td>0.00558129</td>\n    </tr>\n  </tbody>\n</table>\n</div>"
     },
     "metadata": {},
     "output_type": "display_data"
    }
   ],
   "source": [
    "pd.set_option('display.max_columns', None)\n",
    "results = pd.DataFrame(grid_search.cv_results_)\n",
    "display(np.transpose(results.head()))"
   ],
   "metadata": {
    "collapsed": false,
    "pycharm": {
     "name": "#%%\n"
    }
   }
  },
  {
   "cell_type": "code",
   "execution_count": 15,
   "outputs": [
    {
     "name": "stdout",
     "output_type": "stream",
     "text": [
      "confusion matrix:\n",
      " [[399   4]\n",
      " [  7  40]]\n"
     ]
    },
    {
     "name": "stderr",
     "output_type": "stream",
     "text": [
      "C:\\Users\\consi\\anaconda3\\lib\\site-packages\\sklearn\\linear_model\\_logistic.py:762: ConvergenceWarning: lbfgs failed to converge (status=1):\n",
      "STOP: TOTAL NO. of ITERATIONS REACHED LIMIT.\n",
      "\n",
      "Increase the number of iterations (max_iter) or scale the data as shown in:\n",
      "    https://scikit-learn.org/stable/modules/preprocessing.html\n",
      "Please also refer to the documentation for alternative solver options:\n",
      "    https://scikit-learn.org/stable/modules/linear_model.html#logistic-regression\n",
      "  n_iter_i = _check_optimize_result(\n"
     ]
    }
   ],
   "source": [
    "from sklearn.datasets import load_digits\n",
    "\n",
    "digits = load_digits()\n",
    "y = digits.target == 9\n",
    "\n",
    "X_train, X_test, y_train, y_test = train_test_split(digits.data, y, random_state=0)\n",
    "\n",
    "\n",
    "from sklearn.metrics import confusion_matrix\n",
    "from sklearn.linear_model import LogisticRegression\n",
    "\n",
    "logreg = LogisticRegression().fit(X_train, y_train)\n",
    "\n",
    "pred_logreg = logreg.predict(X_test)\n",
    "\n",
    "confusion = confusion_matrix(y_test, pred_logreg)\n",
    "print(\"confusion matrix:\\n\", confusion)"
   ],
   "metadata": {
    "collapsed": false,
    "pycharm": {
     "name": "#%%\n"
    }
   }
  },
  {
   "cell_type": "code",
   "execution_count": 16,
   "outputs": [
    {
     "name": "stdout",
     "output_type": "stream",
     "text": [
      "f1 score: 0.8791208791208791\n"
     ]
    }
   ],
   "source": [
    "from sklearn.metrics import f1_score\n",
    "\n",
    "print(\"f1 score:\", f1_score(y_test, pred_logreg))"
   ],
   "metadata": {
    "collapsed": false,
    "pycharm": {
     "name": "#%%\n"
    }
   }
  },
  {
   "cell_type": "code",
   "execution_count": 17,
   "outputs": [
    {
     "name": "stdout",
     "output_type": "stream",
     "text": [
      "              precision    recall  f1-score   support\n",
      "\n",
      "       Not 9       0.98      0.99      0.99       403\n",
      "           9       0.91      0.85      0.88        47\n",
      "\n",
      "    accuracy                           0.98       450\n",
      "   macro avg       0.95      0.92      0.93       450\n",
      "weighted avg       0.98      0.98      0.98       450\n",
      "\n"
     ]
    }
   ],
   "source": [
    "from sklearn.metrics import classification_report\n",
    "\n",
    "print(classification_report(y_test, pred_logreg, target_names=[\"Not 9\", \"9\"]))"
   ],
   "metadata": {
    "collapsed": false,
    "pycharm": {
     "name": "#%%\n"
    }
   }
  },
  {
   "cell_type": "code",
   "execution_count": 18,
   "outputs": [],
   "source": [
    "from sklearn.metrics import precision_recall_curve\n",
    "\n",
    "precision, recall, thresholds = precision_recall_curve(y_test, logreg.decision_function(X_test))"
   ],
   "metadata": {
    "collapsed": false,
    "pycharm": {
     "name": "#%%\n"
    }
   }
  },
  {
   "cell_type": "code",
   "execution_count": 19,
   "outputs": [
    {
     "data": {
      "text/plain": "[<matplotlib.lines.Line2D at 0x25d4bb1b4f0>]"
     },
     "execution_count": 19,
     "metadata": {},
     "output_type": "execute_result"
    },
    {
     "data": {
      "text/plain": "<Figure size 432x288 with 1 Axes>",
      "image/png": "[encoded data removed]"
     },
     "metadata": {
      "needs_background": "light"
     },
     "output_type": "display_data"
    }
   ],
   "source": [
    "plt.plot(precision, recall)"
   ],
   "metadata": {
    "collapsed": false,
    "pycharm": {
     "name": "#%%\n"
    }
   }
  },
  {
   "cell_type": "code",
   "execution_count": 20,
   "outputs": [
    {
     "name": "stdout",
     "output_type": "stream",
     "text": [
      "average precision: 0.945912841757168\n"
     ]
    }
   ],
   "source": [
    "from sklearn.metrics import average_precision_score\n",
    "\n",
    "print(\"average precision:\", average_precision_score(y_test, logreg.decision_function(X_test)))"
   ],
   "metadata": {
    "collapsed": false,
    "pycharm": {
     "name": "#%%\n"
    }
   }
  },
  {
   "cell_type": "code",
   "execution_count": 22,
   "outputs": [
    {
     "data": {
      "text/plain": "[<matplotlib.lines.Line2D at 0x25d4bdaff40>]"
     },
     "execution_count": 22,
     "metadata": {},
     "output_type": "execute_result"
    },
    {
     "data": {
      "text/plain": "<Figure size 432x288 with 1 Axes>",
      "image/png": "[encoded data removed]"
     },
     "metadata": {
      "needs_background": "light"
     },
     "output_type": "display_data"
    }
   ],
   "source": [
    "from sklearn.metrics import roc_curve\n",
    "\n",
    "fpr, tpr, thresholds = roc_curve(y_test, logreg.decision_function(X_test))\n",
    "\n",
    "plt.plot(fpr, tpr)"
   ],
   "metadata": {
    "collapsed": false,
    "pycharm": {
     "name": "#%%\n"
    }
   }
  },
  {
   "cell_type": "code",
   "execution_count": null,
   "outputs": [],
   "source": [],
   "metadata": {
    "collapsed": false,
    "pycharm": {
     "name": "#%%\n"
    }
   }
  }
 ],
 "metadata": {
  "kernelspec": {
   "display_name": "Python 3",
   "language": "python",
   "name": "python3"
  },
  "language_info": {
   "codemirror_mode": {
    "name": "ipython",
    "version": 2
   },
   "file_extension": ".py",
   "mimetype": "text/x-python",
   "name": "python",
   "nbconvert_exporter": "python",
   "pygments_lexer": "ipython2",
   "version": "2.7.6"
  }
 },
 "nbformat": 4,
 "nbformat_minor": 0
}